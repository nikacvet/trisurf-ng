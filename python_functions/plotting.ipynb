{
 "cells": [
  {
   "cell_type": "markdown",
   "metadata": {},
   "source": [
    "## VISUALISATION"
   ]
  },
  {
   "cell_type": "markdown",
   "metadata": {},
   "source": [
    "### Install necessary modules."
   ]
  },
  {
   "cell_type": "code",
   "execution_count": null,
   "metadata": {},
   "outputs": [],
   "source": [
    "%pip install meshio\n",
    "%pip install vtk\n",
    "%pip install itkwidgets\n",
    "%pip install pyvista"
   ]
  },
  {
   "cell_type": "markdown",
   "metadata": {},
   "source": [
    "### Get information\n",
    "Get information about python version and location of the python executable."
   ]
  },
  {
   "cell_type": "code",
   "execution_count": 1,
   "metadata": {},
   "outputs": [
    {
     "name": "stdout",
     "output_type": "stream",
     "text": [
      "3.10.6 (main, May 29 2023, 11:10:38) [GCC 11.3.0]\n"
     ]
    },
    {
     "data": {
      "text/plain": [
       "'/bin/python3'"
      ]
     },
     "execution_count": 1,
     "metadata": {},
     "output_type": "execute_result"
    }
   ],
   "source": [
    "import sys\n",
    "print(sys.version)\n",
    "sys.executable"
   ]
  },
  {
   "cell_type": "markdown",
   "metadata": {},
   "source": [
    "### Import all modules."
   ]
  },
  {
   "cell_type": "code",
   "execution_count": 1,
   "metadata": {},
   "outputs": [],
   "source": [
    "import pyvista as pv\n",
    "import vtk\n",
    "from itkwidgets import view\n",
    "import meshio"
   ]
  },
  {
   "cell_type": "markdown",
   "metadata": {},
   "source": [
    "### Set values. \n",
    "\n",
    "Generally, you only have to set the path of the file you wish to observe.\n",
    "\n",
    "\n",
    "If you later choose to visualize using the `vtk` module, you also need to convert `.vtu` file to `.vtk` file.\n",
    "\n",
    "In that case, also set the output file name here."
   ]
  },
  {
   "cell_type": "code",
   "execution_count": 2,
   "metadata": {},
   "outputs": [],
   "source": [
    "# set the values you wish to set\n",
    "file_name = '../trisurf/timestep_000099.vtu'\n",
    "\n",
    "# vtk file name\n",
    "# only to be set if you wish to turn into vtk file format, else ignore\n",
    "output_file = 'out.vtk'"
   ]
  },
  {
   "cell_type": "markdown",
   "metadata": {},
   "source": [
    "### View"
   ]
  },
  {
   "cell_type": "markdown",
   "metadata": {},
   "source": [
    "#### View with `itk` module"
   ]
  },
  {
   "cell_type": "code",
   "execution_count": null,
   "metadata": {},
   "outputs": [
    {
     "data": {
      "text/html": [
       "<table style='width: 100%;'><tr><th>Header</th><th>Data Arrays</th></tr><tr><td>\n",
       "<table style='width: 100%;'>\n",
       "<tr><th>UnstructuredGrid</th><th>Information</th></tr>\n",
       "<tr><td>N Cells</td><td>4900</td></tr>\n",
       "<tr><td>N Points</td><td>982</td></tr>\n",
       "<tr><td>X Bounds</td><td>-1.317e+01, 1.354e+01</td></tr>\n",
       "<tr><td>Y Bounds</td><td>-1.165e+01, 1.431e+01</td></tr>\n",
       "<tr><td>Z Bounds</td><td>-8.652e+00, 8.390e+00</td></tr>\n",
       "<tr><td>N Arrays</td><td>4</td></tr>\n",
       "</table>\n",
       "\n",
       "</td><td>\n",
       "<table style='width: 100%;'>\n",
       "<tr><th>Name</th><th>Field</th><th>Type</th><th>N Comp</th><th>Min</th><th>Max</th></tr>\n",
       "<tr><td><b>vertices_idx</b></td><td>Points</td><td>int64</td><td>1</td><td>0.000e+00</td><td>9.810e+02</td></tr>\n",
       "<tr><td>spontaneous_curvature</td><td>Points</td><td>float64</td><td>1</td><td>0.000e+00</td><td>0.000e+00</td></tr>\n",
       "<tr><td>direct_interaction_force</td><td>Points</td><td>float64</td><td>1</td><td>0.000e+00</td><td>0.000e+00</td></tr>\n",
       "<tr><td>bending_energy</td><td>Points</td><td>float64</td><td>1</td><td>1.160e-05</td><td>4.963e+01</td></tr>\n",
       "</table>\n",
       "\n",
       "</td></tr> </table>"
      ],
      "text/plain": [
       "UnstructuredGrid (0x7f1f8e78d780)\n",
       "  N Cells:    4900\n",
       "  N Points:   982\n",
       "  X Bounds:   -1.317e+01, 1.354e+01\n",
       "  Y Bounds:   -1.165e+01, 1.431e+01\n",
       "  Z Bounds:   -8.652e+00, 8.390e+00\n",
       "  N Arrays:   4"
      ]
     },
     "execution_count": 19,
     "metadata": {},
     "output_type": "execute_result"
    }
   ],
   "source": [
    "# BEST WAY\n",
    "# get general info about the file\n",
    "reader = pv.get_reader(file_name)\n",
    "data = reader.read()\n",
    "data\n",
    "\n",
    "# use data.cell_points to view data in raw form"
   ]
  },
  {
   "cell_type": "code",
   "execution_count": 9,
   "metadata": {},
   "outputs": [
    {
     "data": {
      "application/vnd.jupyter.widget-view+json": {
       "model_id": "2a6cc7a792874bc3be7152917514584f",
       "version_major": 2,
       "version_minor": 0
      },
      "text/plain": [
       "Viewer(geometries=[{'vtkClass': 'vtkPolyData', 'points': {'vtkClass': 'vtkPoints', 'name': '_points', 'numberO…"
      ]
     },
     "metadata": {},
     "output_type": "display_data"
    }
   ],
   "source": [
    "view(geometries=data)"
   ]
  },
  {
   "cell_type": "markdown",
   "metadata": {},
   "source": [
    "#### View with `vtk` module."
   ]
  },
  {
   "cell_type": "code",
   "execution_count": 2,
   "metadata": {},
   "outputs": [
    {
     "data": {
      "application/vnd.jupyter.widget-view+json": {
       "model_id": "93c74f6aa21b47a998c634abcac3b0ec",
       "version_major": 2,
       "version_minor": 0
      },
      "text/plain": [
       "Viewer(geometries=[{'vtkClass': 'vtkPolyData', 'points': {'vtkClass': 'vtkPoints', 'name': '_points', 'numberO…"
      ]
     },
     "metadata": {},
     "output_type": "display_data"
    }
   ],
   "source": [
    "# WORKING BUT ONLY FOR VTK FILES NOT VTU SO CONVERSION IS NECCESSARY!\n",
    "# see below for conversion from .vtu to .vtk\n",
    "\n",
    "reader = vtk.vtkUnstructuredGridReader()\n",
    "reader.SetFileName(file_name)\n",
    "reader.Update()\n",
    "grid = reader.GetOutput()\n",
    "\n",
    "view(geometries=grid)"
   ]
  },
  {
   "cell_type": "code",
   "execution_count": null,
   "metadata": {},
   "outputs": [],
   "source": [
    "# IF NEEDED, THIS CONVERTS TO VTK FILE\n",
    "\n",
    "# Read the VTU file using meshio\n",
    "mesh = meshio.read(file_name)\n",
    "# Write the mesh to a VTK file\n",
    "meshio.write(output_file, mesh)"
   ]
  }
 ],
 "metadata": {
  "kernelspec": {
   "display_name": "Python 3",
   "language": "python",
   "name": "python3"
  },
  "language_info": {
   "codemirror_mode": {
    "name": "ipython",
    "version": 3
   },
   "file_extension": ".py",
   "mimetype": "text/x-python",
   "name": "python",
   "nbconvert_exporter": "python",
   "pygments_lexer": "ipython3",
   "version": "3.10.6"
  },
  "orig_nbformat": 4
 },
 "nbformat": 4,
 "nbformat_minor": 2
}
